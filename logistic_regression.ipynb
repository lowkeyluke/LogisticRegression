{
 "cells": [
  {
   "cell_type": "markdown",
   "metadata": {},
   "source": [
    "## Logistic Regression with SGD"
   ]
  },
  {
   "cell_type": "markdown",
   "metadata": {},
   "source": [
    "To begin you first need to install all dependencies, using:\n",
    "\n",
    "    pip install -r requirements.txt"
   ]
  },
  {
   "cell_type": "code",
   "execution_count": 1,
   "metadata": {
    "collapsed": true
   },
   "outputs": [],
   "source": [
    "import numpy as np\n",
    "import matplotlib.pyplot as plt\n",
    "\n",
    "from math import exp, log\n",
    "import os\n",
    "import pickle\n",
    "\n",
    "from skimage import io\n",
    "from skimage.color import rgb2gray\n",
    "from skimage.feature import hog\n",
    "\n",
    "from sklearn.metrics import accuracy_score\n",
    "from sklearn.metrics import precision_recall_curve\n",
    "from sklearn.metrics import roc_curve\n",
    "from sklearn.metrics import roc_auc_score\n",
    "from sklearn.metrics import average_precision_score"
   ]
  },
  {
   "cell_type": "code",
   "execution_count": 2,
   "metadata": {
    "collapsed": true
   },
   "outputs": [],
   "source": [
    "%matplotlib inline"
   ]
  },
  {
   "cell_type": "markdown",
   "metadata": {},
   "source": [
    "### load the dataset"
   ]
  },
  {
   "cell_type": "code",
   "execution_count": 3,
   "metadata": {
    "collapsed": true
   },
   "outputs": [],
   "source": [
    "### set your image dir here\n",
    "IMAGE_DIR = \"./data/\""
   ]
  },
  {
   "cell_type": "code",
   "execution_count": 4,
   "metadata": {
    "collapsed": true
   },
   "outputs": [],
   "source": [
    "def load_dataset(subset=\"train\"):\n",
    "    \"\"\"\n",
    "    1. subset = \"train\", \"val\", \"test\"\n",
    "    2. About the dataset: in \"train\",\"val\" subset, the first half of images are images of hands, the rest half are images of not-hand. \n",
    "    3. extract features from HoG\n",
    "    \"\"\"\n",
    "    path = os.path.join(IMAGE_DIR,subset)\n",
    "    name_list = os.listdir(path)\n",
    "    print(\"Number of images in {}-set: {}\".format(subset, len(name_list)))\n",
    "    #HoG returns 324 features\n",
    "    X = np.zeros(shape=(len(name_list), 324))\n",
    "\n",
    "    if subset == \"train\" or subset == \"val\":\n",
    "        #Make sure that we have equal number of positive and negative class images\n",
    "        assert len(name_list)%2 == 0\n",
    "        count = len(name_list)//2\n",
    "        y = np.array(count*[1] + count*[0])\n",
    "        for idx_true in range(count):\n",
    "            img_name = os.path.join(path,str(idx_true)+\".png\")\n",
    "            img = io.imread(img_name)\n",
    "            img = rgb2gray(img)\n",
    "            vec = hog(img)\n",
    "            X[idx_true, :] = vec\n",
    "        \n",
    "        for idx in range(count):\n",
    "            idx_false = idx + count\n",
    "            img_name = os.path.join(path,str(idx_false)+\".png\")\n",
    "            img = io.imread(img_name)\n",
    "            img = rgb2gray(img)\n",
    "            vec = hog(img)\n",
    "            X[idx_false, :] = vec\n",
    "        return X, y        \n",
    "    else:\n",
    "        for idx in range(len(name_list)):\n",
    "            img_name = os.path.join(path, str(idx)+\".png\")\n",
    "            img = io.imread(img_name)\n",
    "            img = rgb2gray(img)\n",
    "            vec = hog(img)\n",
    "            X[idx, :] = vec\n",
    "        return X"
   ]
  },
  {
   "cell_type": "markdown",
   "metadata": {},
   "source": [
    "### load the data"
   ]
  },
  {
   "cell_type": "code",
   "execution_count": 5,
   "metadata": {
    "collapsed": false
   },
   "outputs": [
    {
     "name": "stdout",
     "output_type": "stream",
     "text": [
      "Number of images in train-set: 8170\n",
      "Number of images in val-set: 2724\n",
      "Number of images in test-set: 5542\n"
     ]
    }
   ],
   "source": [
    "X_train, y_train = load_dataset(\"train\")\n",
    "X_val, y_val = load_dataset(\"val\")\n",
    "X_test = load_dataset(\"test\")"
   ]
  },
  {
   "cell_type": "markdown",
   "metadata": {},
   "source": [
    "### displaying images"
   ]
  },
  {
   "cell_type": "code",
   "execution_count": 6,
   "metadata": {
    "collapsed": true
   },
   "outputs": [],
   "source": [
    "def display(img_path):\n",
    "    \"\"\"\n",
    "    visualize the img\n",
    "    \"\"\"\n",
    "    img = io.imread(img_path)\n",
    "    print(img_path)\n",
    "    io.imshow(img)\n",
    "    io.show()"
   ]
  },
  {
   "cell_type": "code",
   "execution_count": 7,
   "metadata": {
    "collapsed": false
   },
   "outputs": [
    {
     "name": "stdout",
     "output_type": "stream",
     "text": [
      "./data/train/1.png\n"
     ]
    },
    {
     "name": "stderr",
     "output_type": "stream",
     "text": [
      "C:\\Users\\Luke\\Anaconda3\\lib\\site-packages\\skimage\\io\\_plugins\\matplotlib_plugin.py:51: FutureWarning: Conversion of the second argument of issubdtype from `float` to `np.floating` is deprecated. In future, it will be treated as `np.float64 == np.dtype(float).type`.\n",
      "  out_of_range_float = (np.issubdtype(image.dtype, np.float) and\n",
      "C:\\Users\\Luke\\Anaconda3\\lib\\site-packages\\matplotlib\\axes\\_base.py:1428: MatplotlibDeprecationWarning: The 'box-forced' keyword argument is deprecated since 2.2.\n",
      "  \" since 2.2.\", cbook.mplDeprecation)\n"
     ]
    },
    {
     "data": {
      "image/png": "[encoded data removed]",
      "text/plain": [
       "<Figure size 432x288 with 1 Axes>"
      ]
     },
     "metadata": {},
     "output_type": "display_data"
    }
   ],
   "source": [
    "display(IMAGE_DIR+\"train/1.png\")"
   ]
  },
  {
   "cell_type": "markdown",
   "metadata": {},
   "source": [
    "### Logistic regression"
   ]
  },
  {
   "cell_type": "markdown",
   "metadata": {},
   "source": [
    "#### Main function in the class\n",
    "1. \\__init\\__() which sets the hyper parameters\n",
    "2. sigmoid()\n",
    "3. __init_param(), initializes the parameters .\n",
    "4. fit(): train the data\n",
    "5. predict_proba(): predict the probability of the sample belonging to the positive class\n",
    "6. predict(): classify the sample\n",
    "\n",
    "\n",
    "Feel free to overlook the rest of the parts of the code, it's just for convenience.\n"
   ]
  },
  {
   "cell_type": "code",
   "execution_count": 8,
   "metadata": {
    "collapsed": false
   },
   "outputs": [],
   "source": [
    "class LogisticRegression:\n",
    "    \"\"\"\n",
    "    Logistic Regression\n",
    "    \"\"\"\n",
    "    def __init__(self, eta0=0.1, eta1=1, m=16, max_epoch=1000, delta=0.0001):\n",
    "        \"\"\"\n",
    "        m is the batch_size\n",
    "        \"\"\"\n",
    "        self.__init = True # whether to initial the parameters\n",
    "        self.__eta0 = eta0  # weird n\n",
    "        self.__eta1 = eta1\n",
    "        self.__delta = delta\n",
    "        self.__m = m  # batch size\n",
    "        self.__max_epoch = max_epoch\n",
    "        self.lastEpoch = 0\n",
    "        self.L_array = []\n",
    "        self.L_valarray = []\n",
    "        self.accuracyTrain = []\n",
    "        self.accuracyVal = []\n",
    "        \n",
    "    def sigmoid(self, x):\n",
    "        return 1.0 / (1 + np.exp(-x))\n",
    "    \n",
    "    def __init_param(self):\n",
    "        \"\"\"\n",
    "        Weights initialized using a normal distribution here: you can change the distribution.\n",
    "        \"\"\"\n",
    "        d = self.__dimension\n",
    "        self.__wt = np.random.randn(1,d)  # theta value\n",
    "        self.__bias = np.random.randn()\n",
    "        return self.__wt,self.__bias\n",
    "    \n",
    "    def fit(self, X, y, X_val=[], y_val=[]):\n",
    "        \"\"\"\n",
    "        Recommended input:\n",
    "        X: n x d array,\n",
    "        y: n x 1 array or list\n",
    "        \"\"\"\n",
    "        n, d = X.shape\n",
    "        self.__dimension = d\n",
    "        \n",
    "        if self.__init:\n",
    "            self.__init_param()\n",
    "        converged = False\n",
    "        \n",
    "        ### write your code here ### \n",
    "        for epoch in range(0,self.__max_epoch):\n",
    "            eta = self.__eta0 / (self.__eta1+epoch)\n",
    "            if epoch%10 == 0:\n",
    "                print(\"Epoch:\", epoch)\n",
    "                print(\"eta:\", eta)\n",
    "            \n",
    "            l = []\n",
    "            # calculate L_old\n",
    "            for image in X:\n",
    "                # wtX = np.append(np.dot(self.__wt[0], image))  # sum-product of wt, X : appends float to array\n",
    "                # print(\"products:\", products)\n",
    "                l.append(log(self.sigmoid(np.dot(self.__wt[0], image))))  # logLikelihood\n",
    "                \n",
    "            if epoch < 10:\n",
    "                L_old = 5\n",
    "            else:\n",
    "                L_old = (-1/len(l)) * sum(l)  # average conditional logLikelihood\n",
    "            \n",
    "            for batch in range(X.shape[0] // self.__m):\n",
    "                X_batch = X[batch*self.__m : (batch+1)*self.__m]  # X[0:15]\n",
    "                y_batch = y[batch*self.__m : (batch+1)*self.__m]\n",
    "\n",
    "                dl = []\n",
    "                for image,label in zip(X_batch,y_batch):\n",
    "                    dl.append(image * (label - self.sigmoid(np.dot(self.__wt[0], image))))\n",
    "                  # dl.append(image * self.sigmoid(np.dot(self.__wt[0], image)))\n",
    "                \n",
    "                dL = (-1/len(dl)) * sum(dl)\n",
    "                \n",
    "                # use dL to update theta/beta/weights\n",
    "                steps = eta * dL  # array of 324 updates to be applied to the 324 weights\n",
    "                \n",
    "                weights = self.__wt[0]\n",
    "                for iteration in range(0,len(weights)):\n",
    "                    weights[iteration] -= steps[iteration]\n",
    "                self.__wt = [weights]\n",
    "\n",
    "            # print(\"updated:\", self.__wt)\n",
    "            l = []\n",
    "            # calculate L_new\n",
    "            for image in X:\n",
    "                l.append(log(self.sigmoid(np.dot(self.__wt[0], image))))  # logLikelihood\n",
    "                \n",
    "            L_new = (-1/len(l)) * sum(l)  # average conditional logLikelihood\n",
    "            if converged:\n",
    "                self.L_valarray.append(L_new)\n",
    "            else:\n",
    "                self.L_array.append(L_new)\n",
    "            if epoch%10 == 0: print(\"L:\", L_new)\n",
    "                \n",
    "            # calculate accuracy\n",
    "            # train\n",
    "            probTrain = self.predict_proba(X_train)\n",
    "            predictionsTrain = self.predict(probTrain)\n",
    "            \n",
    "            correct = 0\n",
    "            for prediction, label in zip(predictionsTrain, y_train):\n",
    "                if prediction == label:\n",
    "                    correct += 1\n",
    "                    \n",
    "            accuracyTrain = (correct/len(y_train)) * 100\n",
    "            self.accuracyTrain.append(accuracyTrain)\n",
    "            if epoch%10 == 0: print(\"Accuracy train:\", accuracyTrain)\n",
    "            \n",
    "            # val\n",
    "            if len(X_val) > 0:\n",
    "                probVal = self.predict_proba(X_val)\n",
    "                predictionsVal = self.predict(probVal)\n",
    "\n",
    "                correct = 0\n",
    "                for prediction, label in zip(predictionsVal, y_val):\n",
    "                    if prediction == label:\n",
    "                        correct += 1\n",
    "\n",
    "                accuracyVal = (correct/len(y_val)) * 100\n",
    "                self.accuracyVal.append(accuracyVal)\n",
    "                if epoch%10 == 0: print(\"Accuracy val:\", accuracyVal)\n",
    "\n",
    "            # if converged, stop training\n",
    "            if L_new > ((1-self.__delta)*(L_old)):\n",
    "                converged = True\n",
    "                self.lastEpoch = epoch\n",
    "                print(\"BREAKING\", epoch)\n",
    "                print(\"L_new:\", L_new)\n",
    "                if len(X_val) == 0:\n",
    "                    break\n",
    "                else:\n",
    "                    X = X_val\n",
    "                    y = y_val\n",
    "                    if len(self.L_valarray) == 0:\n",
    "                        continue\n",
    "                    else:\n",
    "                        self.L_valarray.append(L_new)\n",
    "                        print(\"Validation over\")\n",
    "                        print(\"epoch:\", epoch)\n",
    "                        break\n",
    "        \n",
    "        ############################\n",
    "        return self.L_array\n",
    "    \n",
    "    def predict_proba(self, X):\n",
    "        \"\"\"\n",
    "        predict the probility of the sample\n",
    "        You can refer to my code below\n",
    "        \"\"\"\n",
    "#         return a vector containing the probability values of the samples belonging to the positive class\n",
    "        probabilityVector = []\n",
    "        for image in X:\n",
    "            probabilityVector.append(self.sigmoid(np.dot(self.__wt[0], image)))\n",
    "                \n",
    "        return probabilityVector\n",
    "    \n",
    "    def predict(self, X):\n",
    "        \"\"\"\n",
    "        Classify the sample\n",
    "        \"\"\"\n",
    "#       return self.predict_proba(X) >= 0.5 # attention: this will give result in bool, you need to convert it to int for submission. \n",
    "        predictions = []\n",
    "    \n",
    "        for prediction in X:\n",
    "            if prediction >= .5:\n",
    "                predictions.append(1)\n",
    "            else:\n",
    "                predictions.append(0)\n",
    "    \n",
    "        return predictions\n",
    "    \n",
    "    def get_param(self):\n",
    "        \"\"\"\n",
    "        output:\n",
    "            parameters: wt(1*d array), b(scalar)\n",
    "        \"\"\"\n",
    "        return [self.__wt, self.__bias]\n",
    "    \n",
    "    def save_model(self, save_file):\n",
    "        \"\"\"\n",
    "        save model to .pkl file\n",
    "        \"\"\"\n",
    "        with open(save_file,\"wb\") as file:\n",
    "            pickle.dump([self.__wt, self.__bias],file)\n",
    "\n",
    "    def load_model(self, load_file):\n",
    "        \"\"\"\n",
    "        load model from .pkl file\n",
    "        \"\"\"\n",
    "        with open(load_file,\"rb\") as file:\n",
    "            param = pickle.load(file)\n",
    "        self.__wt = param[0]\n",
    "        self.__bias = param[1]\n",
    "        self.__init = False\n",
    "        return self.__wt, self.__bias"
   ]
  },
  {
   "cell_type": "markdown",
   "metadata": {},
   "source": [
    "## Question 2.3"
   ]
  },
  {
   "cell_type": "markdown",
   "metadata": {
    "scrolled": true
   },
   "source": [
    "### 1. Baseline Model"
   ]
  },
  {
   "cell_type": "code",
   "execution_count": 9,
   "metadata": {
    "collapsed": false,
    "scrolled": true
   },
   "outputs": [
    {
     "name": "stdout",
     "output_type": "stream",
     "text": [
      "Training...\n",
      "Epoch: 0\n",
      "eta: 0.1\n",
      "L: 0.8544496022738759\n",
      "Accuracy train: 54.271725826193396\n",
      "Epoch: 10\n",
      "eta: 0.009090909090909092\n",
      "L: 0.8333810249219074\n",
      "Accuracy train: 67.52753977968176\n",
      "Epoch: 20\n",
      "eta: 0.004761904761904762\n",
      "L: 0.8253943204226002\n",
      "Accuracy train: 71.77478580171358\n",
      "Epoch: 30\n",
      "eta: 0.0032258064516129032\n",
      "L: 0.8224149197213533\n",
      "Accuracy train: 73.62301101591187\n",
      "Epoch: 40\n",
      "eta: 0.0024390243902439024\n",
      "L: 0.821109076584571\n",
      "Accuracy train: 74.82252141982863\n",
      "BREAKING 41\n",
      "L_new: 0.8210275467095742\n",
      "Finished training\n"
     ]
    }
   ],
   "source": [
    "LR = LogisticRegression()\n",
    "print(\"Training...\")\n",
    "LR.fit(X_train,y_train)\n",
    "print(\"Finished training\")"
   ]
  },
  {
   "cell_type": "markdown",
   "metadata": {},
   "source": [
    "##### (a) Number of epochs till termination = 37"
   ]
  },
  {
   "cell_type": "code",
   "execution_count": 20,
   "metadata": {
    "collapsed": false
   },
   "outputs": [
    {
     "data": {
      "image/png": "[encoded data removed]",
      "text/plain": [
       "<Figure size 432x288 with 1 Axes>"
      ]
     },
     "metadata": {},
     "output_type": "display_data"
    },
    {
     "name": "stdout",
     "output_type": "stream",
     "text": [
      "Final L: 0.8210275467095742\n"
     ]
    }
   ],
   "source": [
    "# (b) Plot L(theta) vs num_epochs\n",
    "plt.plot(list(range(len(LR.L_array))), LR.L_array)\n",
    "plt.show()\n",
    "print(\"Final L:\", LR.L_array[-1])"
   ]
  },
  {
   "cell_type": "markdown",
   "metadata": {},
   "source": [
    "(c) Final value of L($\\theta$) after optimization = .821"
   ]
  },
  {
   "cell_type": "markdown",
   "metadata": {},
   "source": [
    "### 2. Experimenting with ($\\eta_0$,$\\eta_1$)"
   ]
  },
  {
   "cell_type": "code",
   "execution_count": 31,
   "metadata": {
    "collapsed": false,
    "scrolled": true
   },
   "outputs": [
    {
     "name": "stdout",
     "output_type": "stream",
     "text": [
      "Epoch: 0\n",
      "eta: 10.0\n",
      "L: 4.605547647735463\n",
      "Accuracy train: 49.96328029375765\n",
      "Epoch: 10\n",
      "eta: 0.09900990099009901\n",
      "L: 1.3490144334791625\n",
      "Accuracy train: 87.30722154222767\n",
      "BREAKING 18\n",
      "L_new: 1.3375592016415105\n",
      "Last epoch: 18\n",
      "Final L: 1.3375592016415105\n"
     ]
    }
   ],
   "source": [
    "# Experimentation code goes here\n",
    "\n",
    "# 205 epochs\n",
    "# Neven = LogisticRegression(eta0=.5, eta1=.5)\n",
    "# Neven.fit(X_train, y_train)\n",
    "# print(\"Last epoch:\", Neven.lastEpoch)\n",
    "# print(\"Final L:\", Neven.L_array[-1])  # .00029\n",
    "\n",
    "# 106 epochs\n",
    "# N0L = LogisticRegression(eta0=.75, eta1=.25)\n",
    "# N0L.fit(X_train, y_train)\n",
    "# print(\"Last epoch:\", N0L.lastEpoch)\n",
    "# print(\"Final L:\", N0L.L_array[-1])\n",
    "\n",
    "# .9, .1 : 20 epochs\n",
    "# 1, .1 : 15 epochs\n",
    "# 1, .01 : 1 epoch\n",
    "Nflipped = LogisticRegression(eta0=1, eta1=.1)\n",
    "Nflipped.fit(X_train, y_train)\n",
    "print(\"Last epoch:\", Nflipped.lastEpoch)\n",
    "print(\"Final L:\", Nflipped.L_array[-1])  # .00025\n",
    "\n"
   ]
  },
  {
   "cell_type": "markdown",
   "metadata": {},
   "source": [
    "(a) Best value for, $\\eta_0$ = \\_1_, $\\eta_1$ = \\_.1_\n",
    "\n",
    "Number of epochs for training = 18\n",
    "\n",
    "Final value of L($\\theta$) = 1.321"
   ]
  },
  {
   "cell_type": "code",
   "execution_count": 32,
   "metadata": {
    "collapsed": false
   },
   "outputs": [
    {
     "data": {
      "image/png": "[encoded data removed]",
      "text/plain": [
       "<Figure size 432x288 with 1 Axes>"
      ]
     },
     "metadata": {},
     "output_type": "display_data"
    }
   ],
   "source": [
    "# (b) For best (eta_0, eta_1) plot L(theta) vs num_epochs\n",
    "plt.plot(list(range(len(Nflipped.L_array))), Nflipped.L_array)\n",
    "plt.show()"
   ]
  },
  {
   "cell_type": "markdown",
   "metadata": {},
   "source": [
    "### 3. Evaluating on validation set"
   ]
  },
  {
   "cell_type": "code",
   "execution_count": 33,
   "metadata": {
    "collapsed": false
   },
   "outputs": [
    {
     "name": "stdout",
     "output_type": "stream",
     "text": [
      "Epoch: 0\n",
      "eta: 10.0\n",
      "L: 4.641570634313184\n",
      "Accuracy train: 49.96328029375765\n",
      "Accuracy val: 49.926578560939795\n",
      "Epoch: 10\n",
      "eta: 0.09900990099009901\n",
      "L: 1.343614841686911\n",
      "Accuracy train: 87.12362301101592\n",
      "Accuracy val: 87.62848751835536\n",
      "BREAKING 18\n",
      "L_new: 1.3318728727184104\n",
      "Epoch: 20\n",
      "eta: 0.04975124378109452\n",
      "L: 1.3337845899974263\n",
      "Accuracy train: 87.52753977968176\n",
      "Accuracy val: 87.44493392070484\n",
      "Epoch: 30\n",
      "eta: 0.03322259136212624\n",
      "L: 1.3150196128960299\n",
      "Accuracy train: 87.52753977968176\n",
      "Accuracy val: 87.48164464023495\n",
      "Epoch: 40\n",
      "eta: 0.024937655860349125\n",
      "L: 1.308059482680565\n",
      "Accuracy train: 87.50305997552019\n",
      "Accuracy val: 87.62848751835536\n",
      "Epoch: 50\n",
      "eta: 0.01996007984031936\n",
      "L: 1.3051924216603574\n",
      "Accuracy train: 87.41738066095472\n",
      "Accuracy val: 87.62848751835536\n",
      "BREAKING 54\n",
      "L_new: 1.304610819118395\n",
      "Validation over\n",
      "epoch: 54\n"
     ]
    },
    {
     "data": {
      "image/png": "[encoded data removed]",
      "text/plain": [
       "<Figure size 432x288 with 1 Axes>"
      ]
     },
     "metadata": {},
     "output_type": "display_data"
    }
   ],
   "source": [
    "# (a) Plot L(theta) vs num_epochs for both training and validation set on the same figure\n",
    "Ntrainval = LogisticRegression(eta0=1, eta1=.1)\n",
    "Ntrainval.fit(X_train, y_train, X_val=X_val, y_val=y_val)\n",
    "plt.plot(list(range(len(Ntrainval.L_array))), Ntrainval.L_array, 'r')\n",
    "plt.plot(list(range(len(Ntrainval.L_valarray))), Ntrainval.L_valarray, 'g')\n",
    "plt.show()"
   ]
  },
  {
   "cell_type": "code",
   "execution_count": 34,
   "metadata": {
    "collapsed": false
   },
   "outputs": [
    {
     "data": {
      "image/png": "[encoded data removed]",
      "text/plain": [
       "<Figure size 432x288 with 1 Axes>"
      ]
     },
     "metadata": {},
     "output_type": "display_data"
    },
    {
     "name": "stdout",
     "output_type": "stream",
     "text": [
      "Accuracy train: 87.3561811505508\n",
      "Accuracy val: 87.70190895741557\n"
     ]
    }
   ],
   "source": [
    "# (b) Plot Accuracy vs num_epochs for both training and validation set on the same figure\n",
    "plt.plot(list(range(len(Ntrainval.accuracyTrain))), Ntrainval.accuracyTrain, 'r')\n",
    "plt.plot(list(range(len(Ntrainval.accuracyVal))), Ntrainval.accuracyVal, 'g')\n",
    "plt.show()\n",
    "\n",
    "print(\"Accuracy train:\", Ntrainval.accuracyTrain[-1])\n",
    "print(\"Accuracy val:\", Ntrainval.accuracyVal[-1])\n",
    "\n"
   ]
  },
  {
   "cell_type": "markdown",
   "metadata": {},
   "source": [
    "### 4. ROC and Precision-Recall curves"
   ]
  },
  {
   "cell_type": "code",
   "execution_count": 35,
   "metadata": {
    "collapsed": false
   },
   "outputs": [
    {
     "name": "stdout",
     "output_type": "stream",
     "text": [
      "ROC: (array([0.        , 0.15491924, 1.        ]), array([0.        , 0.90895742, 1.        ]), array([2, 1, 0]))\n"
     ]
    },
    {
     "data": {
      "image/png": "[encoded data removed]",
      "text/plain": [
       "<Figure size 432x288 with 1 Axes>"
      ]
     },
     "metadata": {},
     "output_type": "display_data"
    },
    {
     "name": "stdout",
     "output_type": "stream",
     "text": [
      "roc_auc_score: 0.8770190895741556\n"
     ]
    }
   ],
   "source": [
    "#(a) Plot ROC curve on validation data\n",
    "probVal = Ntrainval.predict_proba(X_val)\n",
    "y_score = Ntrainval.predict(probVal)\n",
    "roc = roc_curve(y_val, y_score)\n",
    "print(\"ROC:\", roc)\n",
    "plt.plot(roc)\n",
    "plt.show()\n",
    "print(\"roc_auc_score:\", roc_auc_score(y_val, y_score))"
   ]
  },
  {
   "cell_type": "markdown",
   "metadata": {},
   "source": [
    "Area under curve = .874"
   ]
  },
  {
   "cell_type": "code",
   "execution_count": 36,
   "metadata": {
    "collapsed": false
   },
   "outputs": [
    {
     "name": "stdout",
     "output_type": "stream",
     "text": [
      "precisionRecall: (array([0.5       , 0.85438233, 1.        ]), array([1.        , 0.90895742, 0.        ]), array([0, 1]))\n"
     ]
    },
    {
     "data": {
      "image/png": "[encoded data removed]",
      "text/plain": [
       "<Figure size 432x288 with 1 Axes>"
      ]
     },
     "metadata": {},
     "output_type": "display_data"
    },
    {
     "name": "stdout",
     "output_type": "stream",
     "text": [
      "average_precision_score: 0.8221184492013834\n"
     ]
    }
   ],
   "source": [
    "#(a) Plot Precision-Recall curve on validation data\n",
    "precisionRecall = precision_recall_curve(y_val, y_score)\n",
    "print(\"precisionRecall:\", precisionRecall)\n",
    "precision = precisionRecall[0]\n",
    "recall = precisionRecall[1]\n",
    "plt.plot(precision, recall)\n",
    "plt.show()\n",
    "print(\"average_precision_score:\", average_precision_score(y_val, y_score))\n"
   ]
  },
  {
   "cell_type": "markdown",
   "metadata": {
    "collapsed": true
   },
   "source": [
    "Average Precision = .82"
   ]
  },
  {
   "cell_type": "markdown",
   "metadata": {},
   "source": [
    "## Question 2.4"
   ]
  },
  {
   "cell_type": "markdown",
   "metadata": {},
   "source": [
    "### 1. Submission"
   ]
  },
  {
   "cell_type": "code",
   "execution_count": 17,
   "metadata": {
    "collapsed": true
   },
   "outputs": [],
   "source": [
    "import pandas as pd\n",
    "def submission(y_pred):\n",
    "    \"\"\"\n",
    "    generate the submission.csv for kaggle\n",
    "    input args:\n",
    "        y_pred: 5542x1 array or list contains 5542 elements\n",
    "        \n",
    "    \"\"\"\n",
    "    save_file = pd.DataFrame(columns=[\"Id\",\"Class\"])\n",
    "    id = np.array([idx for idx in range(5542)])\n",
    "    save_file[\"Id\"] = id\n",
    "    save_file[\"Class\"]= y_pred\n",
    "    save_file.to_csv(\"submission.csv\",index=0)       "
   ]
  },
  {
   "cell_type": "markdown",
   "metadata": {},
   "source": [
    "#### Generate the submission.csv"
   ]
  },
  {
   "cell_type": "code",
   "execution_count": 18,
   "metadata": {
    "collapsed": true
   },
   "outputs": [],
   "source": [
    "# code goes here\n",
    "probTest = Ntrainval.predict_proba(X_test)\n",
    "y_pred = Ntrainval.predict(probTest)\n",
    "submission(y_pred)"
   ]
  },
  {
   "cell_type": "markdown",
   "metadata": {},
   "source": [
    "Best obtained accuracy on Public Leader-board = 86.214%"
   ]
  },
  {
   "cell_type": "code",
   "execution_count": null,
   "metadata": {
    "collapsed": true
   },
   "outputs": [],
   "source": []
  }
 ],
 "metadata": {
  "anaconda-cloud": {},
  "kernelspec": {
   "display_name": "Python [default]",
   "language": "python",
   "name": "python3"
  },
  "language_info": {
   "codemirror_mode": {
    "name": "ipython",
    "version": 3
   },
   "file_extension": ".py",
   "mimetype": "text/x-python",
   "name": "python",
   "nbconvert_exporter": "python",
   "pygments_lexer": "ipython3",
   "version": "3.5.2"
  }
 },
 "nbformat": 4,
 "nbformat_minor": 2
}
